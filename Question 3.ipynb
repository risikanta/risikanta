{
 "cells": [
  {
   "cell_type": "code",
   "execution_count": 1,
   "metadata": {},
   "outputs": [
    {
     "name": "stdout",
     "output_type": "stream",
     "text": [
      "enter dictionary size5\n",
      "Name of District :A\n",
      "No. of Cases :50\n",
      "Name of District :B\n",
      "No. of Cases :10\n",
      "Name of District :C\n",
      "No. of Cases :25\n",
      "Name of District :D\n",
      "No. of Cases :30\n",
      "Name of District :E\n",
      "No. of Cases :25\n",
      "A 50\n",
      "D 30\n",
      "C 25\n",
      "E 25\n",
      "B 10\n"
     ]
    }
   ],
   "source": [
    "n=int(input(\"enter dictionary size\"))\n",
    "\n",
    "orders={}\n",
    "\n",
    "for i in range(0,n):\n",
    "    key=input(\"Name of District :\")\n",
    "    orders[key]=int(input(\"No. of Cases :\"))\n",
    "p=sorted(orders.items(),key=lambda x:x[1],reverse=True)\n",
    "for i in p:\n",
    "    print(i[0],i[1])"
   ]
  },
  {
   "cell_type": "code",
   "execution_count": null,
   "metadata": {},
   "outputs": [],
   "source": []
  }
 ],
 "metadata": {
  "kernelspec": {
   "display_name": "Python 3",
   "language": "python",
   "name": "python3"
  },
  "language_info": {
   "codemirror_mode": {
    "name": "ipython",
    "version": 3
   },
   "file_extension": ".py",
   "mimetype": "text/x-python",
   "name": "python",
   "nbconvert_exporter": "python",
   "pygments_lexer": "ipython3",
   "version": "3.8.5"
  }
 },
 "nbformat": 4,
 "nbformat_minor": 4
}
