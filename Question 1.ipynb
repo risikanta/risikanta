{
 "cells": [
  {
   "cell_type": "code",
   "execution_count": 11,
   "metadata": {},
   "outputs": [
    {
     "name": "stdout",
     "output_type": "stream",
     "text": [
      "Enter Name of Complex Compound :Complex compound as a string\n",
      "Best Drug that can be taken out from the given comples is : s a s"
     ]
    }
   ],
   "source": [
    "def printSubStr(str, low, high):\n",
    "    \n",
    "    for i in range(low, high + 1):\n",
    "        print(str[i], end = \"\")\n",
    "        \n",
    "def longSub(str):\n",
    "    n = len(str)\n",
    "    maxLength = 1\n",
    "    start = 0\n",
    "    for i in range(n):\n",
    "        for j in range(i, n):\n",
    "            flag = 1\n",
    "            for k in range(0, ((j - i) // 2) + 1):\n",
    "                if (str[i + k] != str[j - k]):\n",
    "                    flag = 0\n",
    "\n",
    "            if (flag != 0 and (j - i + 1) > maxLength):\n",
    "                start = i\n",
    "                maxLength = j - i + 1\n",
    "                \n",
    "    print(\"Best Drug that can be taken out from the given comples is : \", end = \"\")\n",
    "    printSubStr(str, start, start + maxLength - 1)\n",
    "\n",
    "\n",
    "if __name__ == '__main__':\n",
    "\n",
    "    str = input(\"Enter Name of Complex Compound :\")\n",
    "    longSub(str)"
   ]
  },
  {
   "cell_type": "code",
   "execution_count": null,
   "metadata": {},
   "outputs": [],
   "source": []
  }
 ],
 "metadata": {
  "kernelspec": {
   "display_name": "Python 3",
   "language": "python",
   "name": "python3"
  },
  "language_info": {
   "codemirror_mode": {
    "name": "ipython",
    "version": 3
   },
   "file_extension": ".py",
   "mimetype": "text/x-python",
   "name": "python",
   "nbconvert_exporter": "python",
   "pygments_lexer": "ipython3",
   "version": "3.8.5"
  }
 },
 "nbformat": 4,
 "nbformat_minor": 4
}
